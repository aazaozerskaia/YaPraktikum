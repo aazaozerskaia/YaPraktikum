{
 "cells": [
  {
   "cell_type": "markdown",
   "metadata": {},
   "source": [
    "# Ценообразование автомобилей"
   ]
  },
  {
   "cell_type": "markdown",
   "metadata": {},
   "source": [
    "**Задача** - построить модель для определения стоимости авто"
   ]
  },
  {
   "cell_type": "markdown",
   "metadata": {},
   "source": [
    "**Ключевые шаги**  \n",
    "1. Предобработка данных\n",
    "2. Подготовка признаков\n",
    "3. Построение моделей\n",
    "4. Тестирование"
   ]
  },
  {
   "cell_type": "markdown",
   "metadata": {},
   "source": [
    "**Описание**  \n",
    "Сервис по продаже подержанных авто разрабатывает приложение, в котором можно быстро узнать рыночную стоимость автомобиля. Предоставлены исторические данные: технические характеристики, комплектации и цены. Необходимо построить модель для определения стоимости с учётом важности качества предсказания и скорости предсказания и обучения."
   ]
  },
  {
   "cell_type": "markdown",
   "metadata": {},
   "source": [
    "**Библиотеки**  \n",
    "pandas, numpy, matplotlib, sklearn, catboost, lightgbm"
   ]
  },
  {
   "cell_type": "markdown",
   "metadata": {},
   "source": [
    "# 1. Подготовка данных"
   ]
  },
  {
   "cell_type": "code",
   "execution_count": 1,
   "metadata": {},
   "outputs": [],
   "source": [
    "import pandas as pd\n",
    "import numpy as np\n",
    "from IPython.display import display\n",
    "import matplotlib.pyplot as plt\n",
    "import pylab as pl\n",
    "import warnings\n",
    "warnings.filterwarnings('ignore')\n",
    "\n",
    "from sklearn.tree import DecisionTreeRegressor\n",
    "from sklearn.ensemble import RandomForestRegressor\n",
    "from sklearn.model_selection import cross_val_score\n",
    "from sklearn.linear_model import LinearRegression\n",
    "from sklearn.model_selection import train_test_split\n",
    "from sklearn.metrics import mean_squared_error, mean_absolute_error, r2_score\n",
    "from sklearn.preprocessing import StandardScaler\n",
    "from sklearn.model_selection import train_test_split\n",
    "from sklearn.model_selection import GridSearchCV\n",
    "from sklearn.utils import shuffle\n",
    "from sklearn.preprocessing import OrdinalEncoder"
   ]
  },
  {
   "cell_type": "code",
   "execution_count": 2,
   "metadata": {},
   "outputs": [
    {
     "name": "stdout",
     "output_type": "stream",
     "text": [
      "Requirement already satisfied: catboost in c:\\users\\worker\\anaconda3\\lib\\site-packages (0.25.1)\n",
      "Requirement already satisfied: scipy in c:\\users\\worker\\anaconda3\\lib\\site-packages (from catboost) (1.5.0)\n",
      "Requirement already satisfied: numpy>=1.16.0 in c:\\users\\worker\\anaconda3\\lib\\site-packages (from catboost) (1.19.5)\n",
      "Requirement already satisfied: graphviz in c:\\users\\worker\\anaconda3\\lib\\site-packages (from catboost) (0.16)\n",
      "Requirement already satisfied: plotly in c:\\users\\worker\\anaconda3\\lib\\site-packages (from catboost) (4.14.3)\n",
      "Requirement already satisfied: pandas>=0.24.0 in c:\\users\\worker\\anaconda3\\lib\\site-packages (from catboost) (1.0.5)\n",
      "Requirement already satisfied: six in c:\\users\\worker\\anaconda3\\lib\\site-packages (from catboost) (1.15.0)\n",
      "Requirement already satisfied: matplotlib in c:\\users\\worker\\anaconda3\\lib\\site-packages (from catboost) (3.2.2)\n",
      "Requirement already satisfied: retrying>=1.3.3 in c:\\users\\worker\\anaconda3\\lib\\site-packages (from plotly->catboost) (1.3.3)\n",
      "Requirement already satisfied: python-dateutil>=2.6.1 in c:\\users\\worker\\anaconda3\\lib\\site-packages (from pandas>=0.24.0->catboost) (2.8.1)\n",
      "Requirement already satisfied: pytz>=2017.2 in c:\\users\\worker\\anaconda3\\lib\\site-packages (from pandas>=0.24.0->catboost) (2020.1)\n",
      "Requirement already satisfied: cycler>=0.10 in c:\\users\\worker\\anaconda3\\lib\\site-packages (from matplotlib->catboost) (0.10.0)\n",
      "Requirement already satisfied: pyparsing!=2.0.4,!=2.1.2,!=2.1.6,>=2.0.1 in c:\\users\\worker\\anaconda3\\lib\\site-packages (from matplotlib->catboost) (2.4.7)\n",
      "Requirement already satisfied: kiwisolver>=1.0.1 in c:\\users\\worker\\anaconda3\\lib\\site-packages (from matplotlib->catboost) (1.2.0)\n",
      "Requirement already satisfied: lightgbm in c:\\users\\worker\\anaconda3\\lib\\site-packages (3.2.1)\n",
      "Requirement already satisfied: scikit-learn!=0.22.0 in c:\\users\\worker\\anaconda3\\lib\\site-packages (from lightgbm) (0.23.1)\n",
      "Requirement already satisfied: numpy in c:\\users\\worker\\anaconda3\\lib\\site-packages (from lightgbm) (1.19.5)\n",
      "Requirement already satisfied: wheel in c:\\users\\worker\\anaconda3\\lib\\site-packages (from lightgbm) (0.36.2)\n",
      "Requirement already satisfied: scipy in c:\\users\\worker\\anaconda3\\lib\\site-packages (from lightgbm) (1.5.0)\n",
      "Requirement already satisfied: threadpoolctl>=2.0.0 in c:\\users\\worker\\anaconda3\\lib\\site-packages (from scikit-learn!=0.22.0->lightgbm) (2.1.0)\n",
      "Requirement already satisfied: joblib>=0.11 in c:\\users\\worker\\anaconda3\\lib\\site-packages (from scikit-learn!=0.22.0->lightgbm) (0.16.0)\n"
     ]
    }
   ],
   "source": [
    "!pip install catboost\n",
    "!pip install lightgbm"
   ]
  },
  {
   "cell_type": "code",
   "execution_count": 3,
   "metadata": {},
   "outputs": [],
   "source": [
    "from catboost import CatBoostRegressor\n",
    "from lightgbm import LGBMRegressor"
   ]
  },
  {
   "cell_type": "code",
   "execution_count": 4,
   "metadata": {},
   "outputs": [],
   "source": [
    "pd.set_option('display.float_format', lambda x: '%.2f' % x)\n",
    "pd.set_option('max_columns', None)"
   ]
  },
  {
   "cell_type": "code",
   "execution_count": 5,
   "metadata": {},
   "outputs": [],
   "source": [
    "df = pd.read_csv('autos.csv')"
   ]
  },
  {
   "cell_type": "markdown",
   "metadata": {},
   "source": [
    "## Обзор данных"
   ]
  },
  {
   "cell_type": "code",
   "execution_count": 6,
   "metadata": {},
   "outputs": [],
   "source": [
    "df.columns = df.columns.str.lower()"
   ]
  },
  {
   "cell_type": "code",
   "execution_count": 7,
   "metadata": {},
   "outputs": [
    {
     "data": {
      "text/plain": [
       "(354369, 16)"
      ]
     },
     "execution_count": 7,
     "metadata": {},
     "output_type": "execute_result"
    }
   ],
   "source": [
    "df.shape"
   ]
  },
  {
   "cell_type": "code",
   "execution_count": 8,
   "metadata": {},
   "outputs": [],
   "source": [
    "length = len(df)"
   ]
  },
  {
   "cell_type": "code",
   "execution_count": 9,
   "metadata": {},
   "outputs": [
    {
     "data": {
      "text/html": [
       "<div>\n",
       "<style scoped>\n",
       "    .dataframe tbody tr th:only-of-type {\n",
       "        vertical-align: middle;\n",
       "    }\n",
       "\n",
       "    .dataframe tbody tr th {\n",
       "        vertical-align: top;\n",
       "    }\n",
       "\n",
       "    .dataframe thead th {\n",
       "        text-align: right;\n",
       "    }\n",
       "</style>\n",
       "<table border=\"1\" class=\"dataframe\">\n",
       "  <thead>\n",
       "    <tr style=\"text-align: right;\">\n",
       "      <th></th>\n",
       "      <th>datecrawled</th>\n",
       "      <th>price</th>\n",
       "      <th>vehicletype</th>\n",
       "      <th>registrationyear</th>\n",
       "      <th>gearbox</th>\n",
       "      <th>power</th>\n",
       "      <th>model</th>\n",
       "      <th>kilometer</th>\n",
       "      <th>registrationmonth</th>\n",
       "      <th>fueltype</th>\n",
       "      <th>brand</th>\n",
       "      <th>notrepaired</th>\n",
       "      <th>datecreated</th>\n",
       "      <th>numberofpictures</th>\n",
       "      <th>postalcode</th>\n",
       "      <th>lastseen</th>\n",
       "    </tr>\n",
       "  </thead>\n",
       "  <tbody>\n",
       "    <tr>\n",
       "      <th>0</th>\n",
       "      <td>2016-03-24 11:52:17</td>\n",
       "      <td>480</td>\n",
       "      <td>NaN</td>\n",
       "      <td>1993</td>\n",
       "      <td>manual</td>\n",
       "      <td>0</td>\n",
       "      <td>golf</td>\n",
       "      <td>150000</td>\n",
       "      <td>0</td>\n",
       "      <td>petrol</td>\n",
       "      <td>volkswagen</td>\n",
       "      <td>NaN</td>\n",
       "      <td>2016-03-24 00:00:00</td>\n",
       "      <td>0</td>\n",
       "      <td>70435</td>\n",
       "      <td>2016-04-07 03:16:57</td>\n",
       "    </tr>\n",
       "    <tr>\n",
       "      <th>1</th>\n",
       "      <td>2016-03-24 10:58:45</td>\n",
       "      <td>18300</td>\n",
       "      <td>coupe</td>\n",
       "      <td>2011</td>\n",
       "      <td>manual</td>\n",
       "      <td>190</td>\n",
       "      <td>NaN</td>\n",
       "      <td>125000</td>\n",
       "      <td>5</td>\n",
       "      <td>gasoline</td>\n",
       "      <td>audi</td>\n",
       "      <td>yes</td>\n",
       "      <td>2016-03-24 00:00:00</td>\n",
       "      <td>0</td>\n",
       "      <td>66954</td>\n",
       "      <td>2016-04-07 01:46:50</td>\n",
       "    </tr>\n",
       "    <tr>\n",
       "      <th>2</th>\n",
       "      <td>2016-03-14 12:52:21</td>\n",
       "      <td>9800</td>\n",
       "      <td>suv</td>\n",
       "      <td>2004</td>\n",
       "      <td>auto</td>\n",
       "      <td>163</td>\n",
       "      <td>grand</td>\n",
       "      <td>125000</td>\n",
       "      <td>8</td>\n",
       "      <td>gasoline</td>\n",
       "      <td>jeep</td>\n",
       "      <td>NaN</td>\n",
       "      <td>2016-03-14 00:00:00</td>\n",
       "      <td>0</td>\n",
       "      <td>90480</td>\n",
       "      <td>2016-04-05 12:47:46</td>\n",
       "    </tr>\n",
       "    <tr>\n",
       "      <th>3</th>\n",
       "      <td>2016-03-17 16:54:04</td>\n",
       "      <td>1500</td>\n",
       "      <td>small</td>\n",
       "      <td>2001</td>\n",
       "      <td>manual</td>\n",
       "      <td>75</td>\n",
       "      <td>golf</td>\n",
       "      <td>150000</td>\n",
       "      <td>6</td>\n",
       "      <td>petrol</td>\n",
       "      <td>volkswagen</td>\n",
       "      <td>no</td>\n",
       "      <td>2016-03-17 00:00:00</td>\n",
       "      <td>0</td>\n",
       "      <td>91074</td>\n",
       "      <td>2016-03-17 17:40:17</td>\n",
       "    </tr>\n",
       "    <tr>\n",
       "      <th>4</th>\n",
       "      <td>2016-03-31 17:25:20</td>\n",
       "      <td>3600</td>\n",
       "      <td>small</td>\n",
       "      <td>2008</td>\n",
       "      <td>manual</td>\n",
       "      <td>69</td>\n",
       "      <td>fabia</td>\n",
       "      <td>90000</td>\n",
       "      <td>7</td>\n",
       "      <td>gasoline</td>\n",
       "      <td>skoda</td>\n",
       "      <td>no</td>\n",
       "      <td>2016-03-31 00:00:00</td>\n",
       "      <td>0</td>\n",
       "      <td>60437</td>\n",
       "      <td>2016-04-06 10:17:21</td>\n",
       "    </tr>\n",
       "  </tbody>\n",
       "</table>\n",
       "</div>"
      ],
      "text/plain": [
       "           datecrawled  price vehicletype  registrationyear gearbox  power  \\\n",
       "0  2016-03-24 11:52:17    480         NaN              1993  manual      0   \n",
       "1  2016-03-24 10:58:45  18300       coupe              2011  manual    190   \n",
       "2  2016-03-14 12:52:21   9800         suv              2004    auto    163   \n",
       "3  2016-03-17 16:54:04   1500       small              2001  manual     75   \n",
       "4  2016-03-31 17:25:20   3600       small              2008  manual     69   \n",
       "\n",
       "   model  kilometer  registrationmonth  fueltype       brand notrepaired  \\\n",
       "0   golf     150000                  0    petrol  volkswagen         NaN   \n",
       "1    NaN     125000                  5  gasoline        audi         yes   \n",
       "2  grand     125000                  8  gasoline        jeep         NaN   \n",
       "3   golf     150000                  6    petrol  volkswagen          no   \n",
       "4  fabia      90000                  7  gasoline       skoda          no   \n",
       "\n",
       "           datecreated  numberofpictures  postalcode             lastseen  \n",
       "0  2016-03-24 00:00:00                 0       70435  2016-04-07 03:16:57  \n",
       "1  2016-03-24 00:00:00                 0       66954  2016-04-07 01:46:50  \n",
       "2  2016-03-14 00:00:00                 0       90480  2016-04-05 12:47:46  \n",
       "3  2016-03-17 00:00:00                 0       91074  2016-03-17 17:40:17  \n",
       "4  2016-03-31 00:00:00                 0       60437  2016-04-06 10:17:21  "
      ]
     },
     "execution_count": 9,
     "metadata": {},
     "output_type": "execute_result"
    }
   ],
   "source": [
    "df.head()"
   ]
  },
  {
   "cell_type": "code",
   "execution_count": 10,
   "metadata": {},
   "outputs": [
    {
     "name": "stdout",
     "output_type": "stream",
     "text": [
      "<class 'pandas.core.frame.DataFrame'>\n",
      "RangeIndex: 354369 entries, 0 to 354368\n",
      "Data columns (total 16 columns):\n",
      " #   Column             Non-Null Count   Dtype \n",
      "---  ------             --------------   ----- \n",
      " 0   datecrawled        354369 non-null  object\n",
      " 1   price              354369 non-null  int64 \n",
      " 2   vehicletype        316879 non-null  object\n",
      " 3   registrationyear   354369 non-null  int64 \n",
      " 4   gearbox            334536 non-null  object\n",
      " 5   power              354369 non-null  int64 \n",
      " 6   model              334664 non-null  object\n",
      " 7   kilometer          354369 non-null  int64 \n",
      " 8   registrationmonth  354369 non-null  int64 \n",
      " 9   fueltype           321474 non-null  object\n",
      " 10  brand              354369 non-null  object\n",
      " 11  notrepaired        283215 non-null  object\n",
      " 12  datecreated        354369 non-null  object\n",
      " 13  numberofpictures   354369 non-null  int64 \n",
      " 14  postalcode         354369 non-null  int64 \n",
      " 15  lastseen           354369 non-null  object\n",
      "dtypes: int64(7), object(9)\n",
      "memory usage: 43.3+ MB\n"
     ]
    }
   ],
   "source": [
    "df.info()"
   ]
  },
  {
   "cell_type": "markdown",
   "metadata": {},
   "source": [
    "Категориальные переменные: VehicleType, RegistrationYear, Gearbox, Model, Kilometer, RegistrationMonth, FuelType, Brand, NotRepaired  \n",
    "Количественные: Price, Power"
   ]
  },
  {
   "cell_type": "code",
   "execution_count": 11,
   "metadata": {},
   "outputs": [
    {
     "data": {
      "text/plain": [
       "notrepaired    71154\n",
       "vehicletype    37490\n",
       "fueltype       32895\n",
       "gearbox        19833\n",
       "model          19705\n",
       "dtype: int64"
      ]
     },
     "execution_count": 11,
     "metadata": {},
     "output_type": "execute_result"
    }
   ],
   "source": [
    "df.isnull().sum().sort_values(ascending = False).head(5)"
   ]
  },
  {
   "cell_type": "code",
   "execution_count": 12,
   "metadata": {},
   "outputs": [
    {
     "name": "stdout",
     "output_type": "stream",
     "text": [
      "Количество уникальных значений каждой переменной \n",
      "\n",
      "datecrawled\n",
      "271174 \n",
      "\n",
      "price\n",
      "3731 \n",
      "\n",
      "vehicletype\n",
      "9 \n",
      "\n",
      "registrationyear\n",
      "151 \n",
      "\n",
      "gearbox\n",
      "3 \n",
      "\n",
      "power\n",
      "712 \n",
      "\n",
      "model\n",
      "251 \n",
      "\n",
      "kilometer\n",
      "13 \n",
      "\n",
      "registrationmonth\n",
      "13 \n",
      "\n",
      "fueltype\n",
      "8 \n",
      "\n",
      "brand\n",
      "40 \n",
      "\n",
      "notrepaired\n",
      "3 \n",
      "\n",
      "datecreated\n",
      "109 \n",
      "\n",
      "numberofpictures\n",
      "1 \n",
      "\n",
      "postalcode\n",
      "8143 \n",
      "\n",
      "lastseen\n",
      "179150 \n",
      "\n"
     ]
    }
   ],
   "source": [
    "print('Количество уникальных значений каждой переменной \\n')\n",
    "for col in df.columns:\n",
    "    print(col)\n",
    "    print(len(df[col].unique()), '\\n')"
   ]
  },
  {
   "cell_type": "markdown",
   "metadata": {},
   "source": [
    "Нам предоставлены данные по техническим характеристикам автомобилей для продажи в Германии на основе разных почтовых зон.     \n",
    "Целевой признак - стоимость машины, другие признаки представляют технические характеристики и комплектации.     \n",
    "Всего в датафрейме 354'369 наблюдений, 16 переменных, 5 из которых содержат пропуски. "
   ]
  },
  {
   "cell_type": "code",
   "execution_count": 13,
   "metadata": {},
   "outputs": [
    {
     "data": {
      "text/html": [
       "<div>\n",
       "<style scoped>\n",
       "    .dataframe tbody tr th:only-of-type {\n",
       "        vertical-align: middle;\n",
       "    }\n",
       "\n",
       "    .dataframe tbody tr th {\n",
       "        vertical-align: top;\n",
       "    }\n",
       "\n",
       "    .dataframe thead th {\n",
       "        text-align: right;\n",
       "    }\n",
       "</style>\n",
       "<table border=\"1\" class=\"dataframe\">\n",
       "  <thead>\n",
       "    <tr style=\"text-align: right;\">\n",
       "      <th></th>\n",
       "      <th>count</th>\n",
       "      <th>mean</th>\n",
       "      <th>std</th>\n",
       "      <th>min</th>\n",
       "      <th>25%</th>\n",
       "      <th>50%</th>\n",
       "      <th>75%</th>\n",
       "      <th>max</th>\n",
       "    </tr>\n",
       "  </thead>\n",
       "  <tbody>\n",
       "    <tr>\n",
       "      <th>price</th>\n",
       "      <td>354369.00</td>\n",
       "      <td>4416.66</td>\n",
       "      <td>4514.16</td>\n",
       "      <td>0.00</td>\n",
       "      <td>1050.00</td>\n",
       "      <td>2700.00</td>\n",
       "      <td>6400.00</td>\n",
       "      <td>20000.00</td>\n",
       "    </tr>\n",
       "    <tr>\n",
       "      <th>registrationyear</th>\n",
       "      <td>354369.00</td>\n",
       "      <td>2004.23</td>\n",
       "      <td>90.23</td>\n",
       "      <td>1000.00</td>\n",
       "      <td>1999.00</td>\n",
       "      <td>2003.00</td>\n",
       "      <td>2008.00</td>\n",
       "      <td>9999.00</td>\n",
       "    </tr>\n",
       "    <tr>\n",
       "      <th>power</th>\n",
       "      <td>354369.00</td>\n",
       "      <td>110.09</td>\n",
       "      <td>189.85</td>\n",
       "      <td>0.00</td>\n",
       "      <td>69.00</td>\n",
       "      <td>105.00</td>\n",
       "      <td>143.00</td>\n",
       "      <td>20000.00</td>\n",
       "    </tr>\n",
       "    <tr>\n",
       "      <th>kilometer</th>\n",
       "      <td>354369.00</td>\n",
       "      <td>128211.17</td>\n",
       "      <td>37905.34</td>\n",
       "      <td>5000.00</td>\n",
       "      <td>125000.00</td>\n",
       "      <td>150000.00</td>\n",
       "      <td>150000.00</td>\n",
       "      <td>150000.00</td>\n",
       "    </tr>\n",
       "    <tr>\n",
       "      <th>registrationmonth</th>\n",
       "      <td>354369.00</td>\n",
       "      <td>5.71</td>\n",
       "      <td>3.73</td>\n",
       "      <td>0.00</td>\n",
       "      <td>3.00</td>\n",
       "      <td>6.00</td>\n",
       "      <td>9.00</td>\n",
       "      <td>12.00</td>\n",
       "    </tr>\n",
       "    <tr>\n",
       "      <th>numberofpictures</th>\n",
       "      <td>354369.00</td>\n",
       "      <td>0.00</td>\n",
       "      <td>0.00</td>\n",
       "      <td>0.00</td>\n",
       "      <td>0.00</td>\n",
       "      <td>0.00</td>\n",
       "      <td>0.00</td>\n",
       "      <td>0.00</td>\n",
       "    </tr>\n",
       "    <tr>\n",
       "      <th>postalcode</th>\n",
       "      <td>354369.00</td>\n",
       "      <td>50508.69</td>\n",
       "      <td>25783.10</td>\n",
       "      <td>1067.00</td>\n",
       "      <td>30165.00</td>\n",
       "      <td>49413.00</td>\n",
       "      <td>71083.00</td>\n",
       "      <td>99998.00</td>\n",
       "    </tr>\n",
       "  </tbody>\n",
       "</table>\n",
       "</div>"
      ],
      "text/plain": [
       "                      count      mean      std     min       25%       50%  \\\n",
       "price             354369.00   4416.66  4514.16    0.00   1050.00   2700.00   \n",
       "registrationyear  354369.00   2004.23    90.23 1000.00   1999.00   2003.00   \n",
       "power             354369.00    110.09   189.85    0.00     69.00    105.00   \n",
       "kilometer         354369.00 128211.17 37905.34 5000.00 125000.00 150000.00   \n",
       "registrationmonth 354369.00      5.71     3.73    0.00      3.00      6.00   \n",
       "numberofpictures  354369.00      0.00     0.00    0.00      0.00      0.00   \n",
       "postalcode        354369.00  50508.69 25783.10 1067.00  30165.00  49413.00   \n",
       "\n",
       "                        75%       max  \n",
       "price               6400.00  20000.00  \n",
       "registrationyear    2008.00   9999.00  \n",
       "power                143.00  20000.00  \n",
       "kilometer         150000.00 150000.00  \n",
       "registrationmonth      9.00     12.00  \n",
       "numberofpictures       0.00      0.00  \n",
       "postalcode         71083.00  99998.00  "
      ]
     },
     "execution_count": 13,
     "metadata": {},
     "output_type": "execute_result"
    }
   ],
   "source": [
    "df.describe().T"
   ]
  },
  {
   "cell_type": "code",
   "execution_count": 14,
   "metadata": {},
   "outputs": [
    {
     "data": {
      "text/html": [
       "<div>\n",
       "<style scoped>\n",
       "    .dataframe tbody tr th:only-of-type {\n",
       "        vertical-align: middle;\n",
       "    }\n",
       "\n",
       "    .dataframe tbody tr th {\n",
       "        vertical-align: top;\n",
       "    }\n",
       "\n",
       "    .dataframe thead th {\n",
       "        text-align: right;\n",
       "    }\n",
       "</style>\n",
       "<table border=\"1\" class=\"dataframe\">\n",
       "  <thead>\n",
       "    <tr style=\"text-align: right;\">\n",
       "      <th></th>\n",
       "      <th>count</th>\n",
       "      <th>unique</th>\n",
       "      <th>top</th>\n",
       "      <th>freq</th>\n",
       "    </tr>\n",
       "  </thead>\n",
       "  <tbody>\n",
       "    <tr>\n",
       "      <th>datecrawled</th>\n",
       "      <td>354369</td>\n",
       "      <td>271174</td>\n",
       "      <td>2016-03-24 14:49:47</td>\n",
       "      <td>7</td>\n",
       "    </tr>\n",
       "    <tr>\n",
       "      <th>vehicletype</th>\n",
       "      <td>316879</td>\n",
       "      <td>8</td>\n",
       "      <td>sedan</td>\n",
       "      <td>91457</td>\n",
       "    </tr>\n",
       "    <tr>\n",
       "      <th>gearbox</th>\n",
       "      <td>334536</td>\n",
       "      <td>2</td>\n",
       "      <td>manual</td>\n",
       "      <td>268251</td>\n",
       "    </tr>\n",
       "    <tr>\n",
       "      <th>model</th>\n",
       "      <td>334664</td>\n",
       "      <td>250</td>\n",
       "      <td>golf</td>\n",
       "      <td>29232</td>\n",
       "    </tr>\n",
       "    <tr>\n",
       "      <th>fueltype</th>\n",
       "      <td>321474</td>\n",
       "      <td>7</td>\n",
       "      <td>petrol</td>\n",
       "      <td>216352</td>\n",
       "    </tr>\n",
       "    <tr>\n",
       "      <th>brand</th>\n",
       "      <td>354369</td>\n",
       "      <td>40</td>\n",
       "      <td>volkswagen</td>\n",
       "      <td>77013</td>\n",
       "    </tr>\n",
       "    <tr>\n",
       "      <th>notrepaired</th>\n",
       "      <td>283215</td>\n",
       "      <td>2</td>\n",
       "      <td>no</td>\n",
       "      <td>247161</td>\n",
       "    </tr>\n",
       "    <tr>\n",
       "      <th>datecreated</th>\n",
       "      <td>354369</td>\n",
       "      <td>109</td>\n",
       "      <td>2016-04-03 00:00:00</td>\n",
       "      <td>13719</td>\n",
       "    </tr>\n",
       "    <tr>\n",
       "      <th>lastseen</th>\n",
       "      <td>354369</td>\n",
       "      <td>179150</td>\n",
       "      <td>2016-04-06 13:45:54</td>\n",
       "      <td>17</td>\n",
       "    </tr>\n",
       "  </tbody>\n",
       "</table>\n",
       "</div>"
      ],
      "text/plain": [
       "              count  unique                  top    freq\n",
       "datecrawled  354369  271174  2016-03-24 14:49:47       7\n",
       "vehicletype  316879       8                sedan   91457\n",
       "gearbox      334536       2               manual  268251\n",
       "model        334664     250                 golf   29232\n",
       "fueltype     321474       7               petrol  216352\n",
       "brand        354369      40           volkswagen   77013\n",
       "notrepaired  283215       2                   no  247161\n",
       "datecreated  354369     109  2016-04-03 00:00:00   13719\n",
       "lastseen     354369  179150  2016-04-06 13:45:54      17"
      ]
     },
     "execution_count": 14,
     "metadata": {},
     "output_type": "execute_result"
    }
   ],
   "source": [
    "df.describe(include = 'object').T"
   ]
  },
  {
   "cell_type": "markdown",
   "metadata": {},
   "source": [
    "В переменной кол-во фото отсутствуют значения. Заметны явные выбросы в переменной RegistrationYear, Price, Power.  \n",
    "\n",
    "Портрет среднего автомобиля: цена = 4.5 тыс. евро, мощность = 110 л.с., пробег = 128 тыс. км, механическая коробка передач, тип кузова - седан, модель - фольксваген гольф"
   ]
  },
  {
   "cell_type": "markdown",
   "metadata": {},
   "source": [
    "## Проверка дубликатов"
   ]
  },
  {
   "cell_type": "code",
   "execution_count": 15,
   "metadata": {},
   "outputs": [
    {
     "data": {
      "text/plain": [
       "6.0199961057541715"
      ]
     },
     "execution_count": 15,
     "metadata": {},
     "output_type": "execute_result"
    }
   ],
   "source": [
    "df[df.duplicated(subset = df.columns.difference(['datecrawled', 'lastseen', 'datecreated'])) == True].shape[0]/length * 100"
   ]
  },
  {
   "cell_type": "markdown",
   "metadata": {},
   "source": [
    "Без учёта дат создания объявления, последней активности и выкачивания анкеты из базы, т.к. автовладелец мог дважды выложить одно объявление, необходимо оставить последнее выложенное с наиболее актуальной информацией"
   ]
  },
  {
   "cell_type": "code",
   "execution_count": 16,
   "metadata": {},
   "outputs": [],
   "source": [
    "df = df.sort_values(by='datecreated')"
   ]
  },
  {
   "cell_type": "code",
   "execution_count": 17,
   "metadata": {},
   "outputs": [],
   "source": [
    "df = df.drop_duplicates(subset = df.columns.difference(['datecrawled', 'lastseen', 'datecreated']), keep='last').reset_index(drop=True)"
   ]
  },
  {
   "cell_type": "markdown",
   "metadata": {},
   "source": [
    "#### Обработка выбросов"
   ]
  },
  {
   "cell_type": "code",
   "execution_count": 18,
   "metadata": {},
   "outputs": [],
   "source": [
    "numeric = ['price', 'power', 'kilometer', 'registrationyear']"
   ]
  },
  {
   "cell_type": "code",
   "execution_count": 19,
   "metadata": {},
   "outputs": [
    {
     "data": {
      "image/png": "[encoded data removed]",
      "text/plain": [
       "<Figure size 432x288 with 1 Axes>"
      ]
     },
     "metadata": {
      "needs_background": "light"
     },
     "output_type": "display_data"
    },
    {
     "data": {
      "image/png": "[encoded data removed]",
      "text/plain": [
       "<Figure size 432x288 with 1 Axes>"
      ]
     },
     "metadata": {
      "needs_background": "light"
     },
     "output_type": "display_data"
    },
    {
     "data": {
      "image/png": "[encoded data removed]",
      "text/plain": [
       "<Figure size 432x288 with 1 Axes>"
      ]
     },
     "metadata": {
      "needs_background": "light"
     },
     "output_type": "display_data"
    },
    {
     "data": {
      "image/png": "[encoded data removed]",
      "text/plain": [
       "<Figure size 432x288 with 1 Axes>"
      ]
     },
     "metadata": {
      "needs_background": "light"
     },
     "output_type": "display_data"
    }
   ],
   "source": [
    "for col in df[numeric].columns:      \n",
    "    df[col] = pd.to_numeric(df[col]) \n",
    "    h = df.hist(column=col, bins=50)\n",
    "    pl.title('Распределение')\n",
    "    for ax in h.flatten():\n",
    "        ax.set_xlabel(col)\n",
    "        ax.set_ylabel(\"Частота\")"
   ]
  },
  {
   "cell_type": "code",
   "execution_count": 20,
   "metadata": {},
   "outputs": [
    {
     "name": "stdout",
     "output_type": "stream",
     "text": [
      "price \n",
      " 6.91%\n",
      "0.00% \n",
      "\n",
      "power \n",
      " 0.20%\n",
      "0.00% \n",
      "\n",
      "kilometer \n",
      " 0.00%\n",
      "9.70% \n",
      "\n",
      "registrationyear \n",
      " 0.03%\n",
      "0.02% \n",
      "\n"
     ]
    }
   ],
   "source": [
    "for col in df[numeric]:\n",
    "    outliers_up = df[df[col] > df[col].quantile(0.75) + 1.5 * df[col].std()][col]\n",
    "    outliers_down = df[df[col] < df[col].quantile(0.25) - 1.5 * df[col].std()][col]\n",
    "    print(col, '\\n {:.2%}'.format(len(outliers_up)/len(df)))\n",
    "    print(\"{:.2%} \\n\".format(len(outliers_down)/len(df)))"
   ]
  },
  {
   "cell_type": "code",
   "execution_count": 21,
   "metadata": {},
   "outputs": [
    {
     "name": "stdout",
     "output_type": "stream",
     "text": [
      "Часть данных с выбросом года регистрации 0.05%\n"
     ]
    }
   ],
   "source": [
    "print('Часть данных с выбросом года регистрации {:.2%}'.\n",
    "      format(len(df[(df['registrationyear']>2019) | (df['registrationyear']<=1900)])/len(df)))"
   ]
  },
  {
   "cell_type": "code",
   "execution_count": 22,
   "metadata": {},
   "outputs": [],
   "source": [
    "df = df[(df['registrationyear']<2020) & (df['registrationyear']>1900)].reset_index(drop=True)"
   ]
  },
  {
   "cell_type": "markdown",
   "metadata": {},
   "source": [
    "Ограничим мощность более реальными значениями"
   ]
  },
  {
   "cell_type": "code",
   "execution_count": 23,
   "metadata": {},
   "outputs": [],
   "source": [
    "df = df[df['power'] <= 450].reset_index(drop=True)"
   ]
  },
  {
   "cell_type": "markdown",
   "metadata": {},
   "source": [
    "Нулевые значения цены - явные ошибки. Такие данные нам не интересны для анализа стоимости"
   ]
  },
  {
   "cell_type": "code",
   "execution_count": 24,
   "metadata": {},
   "outputs": [],
   "source": [
    "df = df[df['price']>0]"
   ]
  },
  {
   "cell_type": "markdown",
   "metadata": {},
   "source": [
    "## Обработка пропусков"
   ]
  },
  {
   "cell_type": "markdown",
   "metadata": {},
   "source": [
    "**Частотный анализ переменных с пропусками**"
   ]
  },
  {
   "cell_type": "code",
   "execution_count": 25,
   "metadata": {},
   "outputs": [],
   "source": [
    "cols = ['notrepaired', 'vehicletype', 'fueltype', 'gearbox']"
   ]
  },
  {
   "cell_type": "code",
   "execution_count": 26,
   "metadata": {},
   "outputs": [
    {
     "name": "stdout",
     "output_type": "stream",
     "text": [
      "no    0.70\n",
      "NaN   0.19\n",
      "yes   0.10\n",
      "Name: notrepaired, dtype: float64 \n",
      "\n",
      "sedan         0.26\n",
      "small         0.23\n",
      "wagon         0.18\n",
      "NaN           0.10\n",
      "bus           0.08\n",
      "convertible   0.06\n",
      "coupe         0.05\n",
      "suv           0.03\n",
      "other         0.01\n",
      "Name: vehicletype, dtype: float64 \n",
      "\n",
      "petrol     0.61\n",
      "gasoline   0.28\n",
      "NaN        0.09\n",
      "lpg        0.01\n",
      "cng        0.00\n",
      "hybrid     0.00\n",
      "other      0.00\n",
      "electric   0.00\n",
      "Name: fueltype, dtype: float64 \n",
      "\n",
      "manual   0.76\n",
      "auto     0.19\n",
      "NaN      0.05\n",
      "Name: gearbox, dtype: float64 \n",
      "\n"
     ]
    }
   ],
   "source": [
    "for col in cols:\n",
    "    print(df[col].value_counts(dropna=False, normalize=True), '\\n')"
   ]
  },
  {
   "cell_type": "code",
   "execution_count": 27,
   "metadata": {},
   "outputs": [
    {
     "data": {
      "text/plain": [
       "notrepaired    62814\n",
       "vehicletype    32395\n",
       "fueltype       28449\n",
       "model          16851\n",
       "gearbox        16550\n",
       "dtype: int64"
      ]
     },
     "execution_count": 27,
     "metadata": {},
     "output_type": "execute_result"
    }
   ],
   "source": [
    "df.isnull().sum().sort_values(ascending = False).head(5)"
   ]
  },
  {
   "cell_type": "markdown",
   "metadata": {},
   "source": [
    "Чтобы произвести замену с использованием переменной Модель, необходимо временно заполнить пропущенные значения"
   ]
  },
  {
   "cell_type": "code",
   "execution_count": 28,
   "metadata": {},
   "outputs": [],
   "source": [
    "df.model = df.model.replace(np.nan, 0)"
   ]
  },
  {
   "cell_type": "code",
   "execution_count": 29,
   "metadata": {},
   "outputs": [],
   "source": [
    "nan_v = df[df['vehicletype'].isnull()==True].index"
   ]
  },
  {
   "cell_type": "code",
   "execution_count": 30,
   "metadata": {},
   "outputs": [],
   "source": [
    "df['vehicletype'] = df['vehicletype'].fillna(df.groupby(['brand', 'model', 'registrationyear'])['vehicletype'].\n",
    "                                             transform(lambda x: next(iter(x.mode()), np.nan)))"
   ]
  },
  {
   "cell_type": "code",
   "execution_count": 31,
   "metadata": {},
   "outputs": [],
   "source": [
    "df['vehicletype'] = df['vehicletype'].fillna(df.groupby(['brand', 'model'])['vehicletype'].\n",
    "                                             transform(lambda x: next(iter(x.mode()), np.nan)))"
   ]
  },
  {
   "cell_type": "code",
   "execution_count": 32,
   "metadata": {},
   "outputs": [
    {
     "data": {
      "text/html": [
       "<div>\n",
       "<style scoped>\n",
       "    .dataframe tbody tr th:only-of-type {\n",
       "        vertical-align: middle;\n",
       "    }\n",
       "\n",
       "    .dataframe tbody tr th {\n",
       "        vertical-align: top;\n",
       "    }\n",
       "\n",
       "    .dataframe thead th {\n",
       "        text-align: right;\n",
       "    }\n",
       "</style>\n",
       "<table border=\"1\" class=\"dataframe\">\n",
       "  <thead>\n",
       "    <tr style=\"text-align: right;\">\n",
       "      <th></th>\n",
       "      <th>datecrawled</th>\n",
       "      <th>price</th>\n",
       "      <th>vehicletype</th>\n",
       "      <th>registrationyear</th>\n",
       "      <th>gearbox</th>\n",
       "      <th>power</th>\n",
       "      <th>model</th>\n",
       "      <th>kilometer</th>\n",
       "      <th>registrationmonth</th>\n",
       "      <th>fueltype</th>\n",
       "      <th>brand</th>\n",
       "      <th>notrepaired</th>\n",
       "      <th>datecreated</th>\n",
       "      <th>numberofpictures</th>\n",
       "      <th>postalcode</th>\n",
       "      <th>lastseen</th>\n",
       "    </tr>\n",
       "  </thead>\n",
       "  <tbody>\n",
       "    <tr>\n",
       "      <th>0</th>\n",
       "      <td>2016-03-16 11:48:06</td>\n",
       "      <td>8999</td>\n",
       "      <td>sedan</td>\n",
       "      <td>2005</td>\n",
       "      <td>NaN</td>\n",
       "      <td>0</td>\n",
       "      <td>147</td>\n",
       "      <td>125000</td>\n",
       "      <td>0</td>\n",
       "      <td>petrol</td>\n",
       "      <td>alfa_romeo</td>\n",
       "      <td>NaN</td>\n",
       "      <td>2014-03-10 00:00:00</td>\n",
       "      <td>0</td>\n",
       "      <td>79669</td>\n",
       "      <td>2016-04-07 04:46:24</td>\n",
       "    </tr>\n",
       "    <tr>\n",
       "      <th>11</th>\n",
       "      <td>2016-03-19 12:52:26</td>\n",
       "      <td>11999</td>\n",
       "      <td>bus</td>\n",
       "      <td>2008</td>\n",
       "      <td>manual</td>\n",
       "      <td>150</td>\n",
       "      <td>0</td>\n",
       "      <td>90000</td>\n",
       "      <td>1</td>\n",
       "      <td>gasoline</td>\n",
       "      <td>opel</td>\n",
       "      <td>no</td>\n",
       "      <td>2015-11-23 00:00:00</td>\n",
       "      <td>0</td>\n",
       "      <td>7749</td>\n",
       "      <td>2016-03-27 17:44:16</td>\n",
       "    </tr>\n",
       "    <tr>\n",
       "      <th>25</th>\n",
       "      <td>2016-03-05 19:53:54</td>\n",
       "      <td>14499</td>\n",
       "      <td>sedan</td>\n",
       "      <td>2006</td>\n",
       "      <td>manual</td>\n",
       "      <td>250</td>\n",
       "      <td>0</td>\n",
       "      <td>90000</td>\n",
       "      <td>12</td>\n",
       "      <td>petrol</td>\n",
       "      <td>volkswagen</td>\n",
       "      <td>no</td>\n",
       "      <td>2016-01-03 00:00:00</td>\n",
       "      <td>0</td>\n",
       "      <td>47495</td>\n",
       "      <td>2016-04-07 14:56:36</td>\n",
       "    </tr>\n",
       "    <tr>\n",
       "      <th>35</th>\n",
       "      <td>2016-03-05 15:54:28</td>\n",
       "      <td>2900</td>\n",
       "      <td>sedan</td>\n",
       "      <td>2000</td>\n",
       "      <td>auto</td>\n",
       "      <td>135</td>\n",
       "      <td>0</td>\n",
       "      <td>150000</td>\n",
       "      <td>6</td>\n",
       "      <td>NaN</td>\n",
       "      <td>bmw</td>\n",
       "      <td>no</td>\n",
       "      <td>2016-01-13 00:00:00</td>\n",
       "      <td>0</td>\n",
       "      <td>12689</td>\n",
       "      <td>2016-03-12 19:54:26</td>\n",
       "    </tr>\n",
       "    <tr>\n",
       "      <th>46</th>\n",
       "      <td>2016-03-20 12:50:50</td>\n",
       "      <td>13500</td>\n",
       "      <td>sedan</td>\n",
       "      <td>2017</td>\n",
       "      <td>auto</td>\n",
       "      <td>220</td>\n",
       "      <td>e_klasse</td>\n",
       "      <td>150000</td>\n",
       "      <td>12</td>\n",
       "      <td>NaN</td>\n",
       "      <td>mercedes_benz</td>\n",
       "      <td>no</td>\n",
       "      <td>2016-01-22 00:00:00</td>\n",
       "      <td>0</td>\n",
       "      <td>27572</td>\n",
       "      <td>2016-03-27 09:54:34</td>\n",
       "    </tr>\n",
       "  </tbody>\n",
       "</table>\n",
       "</div>"
      ],
      "text/plain": [
       "            datecrawled  price vehicletype  registrationyear gearbox  power  \\\n",
       "0   2016-03-16 11:48:06   8999       sedan              2005     NaN      0   \n",
       "11  2016-03-19 12:52:26  11999         bus              2008  manual    150   \n",
       "25  2016-03-05 19:53:54  14499       sedan              2006  manual    250   \n",
       "35  2016-03-05 15:54:28   2900       sedan              2000    auto    135   \n",
       "46  2016-03-20 12:50:50  13500       sedan              2017    auto    220   \n",
       "\n",
       "       model  kilometer  registrationmonth  fueltype          brand  \\\n",
       "0        147     125000                  0    petrol     alfa_romeo   \n",
       "11         0      90000                  1  gasoline           opel   \n",
       "25         0      90000                 12    petrol     volkswagen   \n",
       "35         0     150000                  6       NaN            bmw   \n",
       "46  e_klasse     150000                 12       NaN  mercedes_benz   \n",
       "\n",
       "   notrepaired          datecreated  numberofpictures  postalcode  \\\n",
       "0          NaN  2014-03-10 00:00:00                 0       79669   \n",
       "11          no  2015-11-23 00:00:00                 0        7749   \n",
       "25          no  2016-01-03 00:00:00                 0       47495   \n",
       "35          no  2016-01-13 00:00:00                 0       12689   \n",
       "46          no  2016-01-22 00:00:00                 0       27572   \n",
       "\n",
       "               lastseen  \n",
       "0   2016-04-07 04:46:24  \n",
       "11  2016-03-27 17:44:16  \n",
       "25  2016-04-07 14:56:36  \n",
       "35  2016-03-12 19:54:26  \n",
       "46  2016-03-27 09:54:34  "
      ]
     },
     "execution_count": 32,
     "metadata": {},
     "output_type": "execute_result"
    }
   ],
   "source": [
    "df.loc[nan_v].head()"
   ]
  },
  {
   "cell_type": "markdown",
   "metadata": {},
   "source": [
    "Замена пропусков в переменной Модель"
   ]
  },
  {
   "cell_type": "code",
   "execution_count": 33,
   "metadata": {},
   "outputs": [],
   "source": [
    "nan_m = df[df['model'] == 0].index"
   ]
  },
  {
   "cell_type": "code",
   "execution_count": 34,
   "metadata": {},
   "outputs": [],
   "source": [
    "df.model = df.model.replace(0, np.nan)"
   ]
  },
  {
   "cell_type": "code",
   "execution_count": 35,
   "metadata": {},
   "outputs": [],
   "source": [
    "df.model = df.model.fillna(df.groupby(['brand', 'vehicletype', 'registrationyear']).model.\n",
    "                           transform(lambda x: next(iter(x.mode()), np.nan)))"
   ]
  },
  {
   "cell_type": "code",
   "execution_count": 36,
   "metadata": {},
   "outputs": [],
   "source": [
    "df.model = df.model.fillna(df.groupby(['brand', 'vehicletype']).model.\n",
    "                           transform(lambda x: next(iter(x.mode()), np.nan)))"
   ]
  },
  {
   "cell_type": "code",
   "execution_count": 37,
   "metadata": {},
   "outputs": [
    {
     "data": {
      "text/plain": [
       "2721"
      ]
     },
     "execution_count": 37,
     "metadata": {},
     "output_type": "execute_result"
    }
   ],
   "source": [
    "len(df[df['model'].isnull()])"
   ]
  },
  {
   "cell_type": "code",
   "execution_count": 38,
   "metadata": {},
   "outputs": [
    {
     "data": {
      "text/plain": [
       "sonstige_autos    2718\n",
       "lada                 1\n",
       "smart                1\n",
       "jeep                 1\n",
       "Name: brand, dtype: int64"
      ]
     },
     "execution_count": 38,
     "metadata": {},
     "output_type": "execute_result"
    }
   ],
   "source": [
    "# проверка\n",
    "df[df['model'].isnull()]['brand'].value_counts()"
   ]
  },
  {
   "cell_type": "markdown",
   "metadata": {},
   "source": [
    "Пропуски в модели не были заменены в 3х случаях с большим кол-вом прпусков в других регрессорах, а также в sonstige_autos - другие модели."
   ]
  },
  {
   "cell_type": "code",
   "execution_count": 39,
   "metadata": {},
   "outputs": [
    {
     "data": {
      "text/html": [
       "<div>\n",
       "<style scoped>\n",
       "    .dataframe tbody tr th:only-of-type {\n",
       "        vertical-align: middle;\n",
       "    }\n",
       "\n",
       "    .dataframe tbody tr th {\n",
       "        vertical-align: top;\n",
       "    }\n",
       "\n",
       "    .dataframe thead th {\n",
       "        text-align: right;\n",
       "    }\n",
       "</style>\n",
       "<table border=\"1\" class=\"dataframe\">\n",
       "  <thead>\n",
       "    <tr style=\"text-align: right;\">\n",
       "      <th></th>\n",
       "      <th>datecrawled</th>\n",
       "      <th>price</th>\n",
       "      <th>vehicletype</th>\n",
       "      <th>registrationyear</th>\n",
       "      <th>gearbox</th>\n",
       "      <th>power</th>\n",
       "      <th>model</th>\n",
       "      <th>kilometer</th>\n",
       "      <th>registrationmonth</th>\n",
       "      <th>fueltype</th>\n",
       "      <th>brand</th>\n",
       "      <th>notrepaired</th>\n",
       "      <th>datecreated</th>\n",
       "      <th>numberofpictures</th>\n",
       "      <th>postalcode</th>\n",
       "      <th>lastseen</th>\n",
       "    </tr>\n",
       "  </thead>\n",
       "  <tbody>\n",
       "    <tr>\n",
       "      <th>24001</th>\n",
       "      <td>2016-03-07 12:46:26</td>\n",
       "      <td>2700</td>\n",
       "      <td>convertible</td>\n",
       "      <td>1997</td>\n",
       "      <td>auto</td>\n",
       "      <td>212</td>\n",
       "      <td>NaN</td>\n",
       "      <td>150000</td>\n",
       "      <td>4</td>\n",
       "      <td>NaN</td>\n",
       "      <td>jeep</td>\n",
       "      <td>yes</td>\n",
       "      <td>2016-03-07 00:00:00</td>\n",
       "      <td>0</td>\n",
       "      <td>37213</td>\n",
       "      <td>2016-03-12 22:17:20</td>\n",
       "    </tr>\n",
       "    <tr>\n",
       "      <th>135902</th>\n",
       "      <td>2016-03-19 11:55:15</td>\n",
       "      <td>3500</td>\n",
       "      <td>bus</td>\n",
       "      <td>2007</td>\n",
       "      <td>NaN</td>\n",
       "      <td>0</td>\n",
       "      <td>NaN</td>\n",
       "      <td>150000</td>\n",
       "      <td>3</td>\n",
       "      <td>NaN</td>\n",
       "      <td>lada</td>\n",
       "      <td>NaN</td>\n",
       "      <td>2016-03-19 00:00:00</td>\n",
       "      <td>0</td>\n",
       "      <td>34385</td>\n",
       "      <td>2016-03-21 16:16:47</td>\n",
       "    </tr>\n",
       "    <tr>\n",
       "      <th>253177</th>\n",
       "      <td>2016-03-29 15:59:15</td>\n",
       "      <td>1650</td>\n",
       "      <td>bus</td>\n",
       "      <td>2000</td>\n",
       "      <td>NaN</td>\n",
       "      <td>0</td>\n",
       "      <td>NaN</td>\n",
       "      <td>150000</td>\n",
       "      <td>0</td>\n",
       "      <td>NaN</td>\n",
       "      <td>smart</td>\n",
       "      <td>NaN</td>\n",
       "      <td>2016-03-29 00:00:00</td>\n",
       "      <td>0</td>\n",
       "      <td>74376</td>\n",
       "      <td>2016-03-29 16:40:56</td>\n",
       "    </tr>\n",
       "  </tbody>\n",
       "</table>\n",
       "</div>"
      ],
      "text/plain": [
       "                datecrawled  price  vehicletype  registrationyear gearbox  \\\n",
       "24001   2016-03-07 12:46:26   2700  convertible              1997    auto   \n",
       "135902  2016-03-19 11:55:15   3500          bus              2007     NaN   \n",
       "253177  2016-03-29 15:59:15   1650          bus              2000     NaN   \n",
       "\n",
       "        power model  kilometer  registrationmonth fueltype  brand notrepaired  \\\n",
       "24001     212   NaN     150000                  4      NaN   jeep         yes   \n",
       "135902      0   NaN     150000                  3      NaN   lada         NaN   \n",
       "253177      0   NaN     150000                  0      NaN  smart         NaN   \n",
       "\n",
       "                datecreated  numberofpictures  postalcode             lastseen  \n",
       "24001   2016-03-07 00:00:00                 0       37213  2016-03-12 22:17:20  \n",
       "135902  2016-03-19 00:00:00                 0       34385  2016-03-21 16:16:47  \n",
       "253177  2016-03-29 00:00:00                 0       74376  2016-03-29 16:40:56  "
      ]
     },
     "execution_count": 39,
     "metadata": {},
     "output_type": "execute_result"
    }
   ],
   "source": [
    "df[(df['model'].isnull()) & (df['brand'] != 'sonstige_autos')]"
   ]
  },
  {
   "cell_type": "code",
   "execution_count": 40,
   "metadata": {},
   "outputs": [
    {
     "data": {
      "text/html": [
       "<div>\n",
       "<style scoped>\n",
       "    .dataframe tbody tr th:only-of-type {\n",
       "        vertical-align: middle;\n",
       "    }\n",
       "\n",
       "    .dataframe tbody tr th {\n",
       "        vertical-align: top;\n",
       "    }\n",
       "\n",
       "    .dataframe thead th {\n",
       "        text-align: right;\n",
       "    }\n",
       "</style>\n",
       "<table border=\"1\" class=\"dataframe\">\n",
       "  <thead>\n",
       "    <tr style=\"text-align: right;\">\n",
       "      <th></th>\n",
       "      <th>datecrawled</th>\n",
       "      <th>price</th>\n",
       "      <th>vehicletype</th>\n",
       "      <th>registrationyear</th>\n",
       "      <th>gearbox</th>\n",
       "      <th>power</th>\n",
       "      <th>model</th>\n",
       "      <th>kilometer</th>\n",
       "      <th>registrationmonth</th>\n",
       "      <th>fueltype</th>\n",
       "      <th>brand</th>\n",
       "      <th>notrepaired</th>\n",
       "      <th>datecreated</th>\n",
       "      <th>numberofpictures</th>\n",
       "      <th>postalcode</th>\n",
       "      <th>lastseen</th>\n",
       "    </tr>\n",
       "  </thead>\n",
       "  <tbody>\n",
       "    <tr>\n",
       "      <th>23</th>\n",
       "      <td>2016-03-06 17:48:23</td>\n",
       "      <td>5500</td>\n",
       "      <td>other</td>\n",
       "      <td>2009</td>\n",
       "      <td>auto</td>\n",
       "      <td>0</td>\n",
       "      <td>NaN</td>\n",
       "      <td>40000</td>\n",
       "      <td>9</td>\n",
       "      <td>gasoline</td>\n",
       "      <td>sonstige_autos</td>\n",
       "      <td>no</td>\n",
       "      <td>2016-01-02 00:00:00</td>\n",
       "      <td>0</td>\n",
       "      <td>31073</td>\n",
       "      <td>2016-04-06 13:46:32</td>\n",
       "    </tr>\n",
       "    <tr>\n",
       "      <th>100</th>\n",
       "      <td>2016-03-05 14:50:35</td>\n",
       "      <td>999</td>\n",
       "      <td>suv</td>\n",
       "      <td>2015</td>\n",
       "      <td>NaN</td>\n",
       "      <td>0</td>\n",
       "      <td>NaN</td>\n",
       "      <td>5000</td>\n",
       "      <td>0</td>\n",
       "      <td>NaN</td>\n",
       "      <td>sonstige_autos</td>\n",
       "      <td>NaN</td>\n",
       "      <td>2016-02-03 00:00:00</td>\n",
       "      <td>0</td>\n",
       "      <td>19249</td>\n",
       "      <td>2016-04-05 11:45:25</td>\n",
       "    </tr>\n",
       "    <tr>\n",
       "      <th>246</th>\n",
       "      <td>2016-03-24 23:56:23</td>\n",
       "      <td>3799</td>\n",
       "      <td>small</td>\n",
       "      <td>1979</td>\n",
       "      <td>NaN</td>\n",
       "      <td>0</td>\n",
       "      <td>NaN</td>\n",
       "      <td>50000</td>\n",
       "      <td>4</td>\n",
       "      <td>petrol</td>\n",
       "      <td>sonstige_autos</td>\n",
       "      <td>NaN</td>\n",
       "      <td>2016-02-21 00:00:00</td>\n",
       "      <td>0</td>\n",
       "      <td>86554</td>\n",
       "      <td>2016-04-06 19:15:23</td>\n",
       "    </tr>\n",
       "    <tr>\n",
       "      <th>389</th>\n",
       "      <td>2016-03-06 03:43:15</td>\n",
       "      <td>2900</td>\n",
       "      <td>convertible</td>\n",
       "      <td>2002</td>\n",
       "      <td>auto</td>\n",
       "      <td>10</td>\n",
       "      <td>NaN</td>\n",
       "      <td>30000</td>\n",
       "      <td>6</td>\n",
       "      <td>petrol</td>\n",
       "      <td>sonstige_autos</td>\n",
       "      <td>no</td>\n",
       "      <td>2016-02-29 00:00:00</td>\n",
       "      <td>0</td>\n",
       "      <td>8132</td>\n",
       "      <td>2016-03-10 15:45:22</td>\n",
       "    </tr>\n",
       "    <tr>\n",
       "      <th>703</th>\n",
       "      <td>2016-03-05 16:56:42</td>\n",
       "      <td>10900</td>\n",
       "      <td>small</td>\n",
       "      <td>2014</td>\n",
       "      <td>auto</td>\n",
       "      <td>5</td>\n",
       "      <td>NaN</td>\n",
       "      <td>20000</td>\n",
       "      <td>3</td>\n",
       "      <td>gasoline</td>\n",
       "      <td>sonstige_autos</td>\n",
       "      <td>no</td>\n",
       "      <td>2016-03-03 00:00:00</td>\n",
       "      <td>0</td>\n",
       "      <td>86462</td>\n",
       "      <td>2016-04-06 17:17:02</td>\n",
       "    </tr>\n",
       "  </tbody>\n",
       "</table>\n",
       "</div>"
      ],
      "text/plain": [
       "             datecrawled  price  vehicletype  registrationyear gearbox  power  \\\n",
       "23   2016-03-06 17:48:23   5500        other              2009    auto      0   \n",
       "100  2016-03-05 14:50:35    999          suv              2015     NaN      0   \n",
       "246  2016-03-24 23:56:23   3799        small              1979     NaN      0   \n",
       "389  2016-03-06 03:43:15   2900  convertible              2002    auto     10   \n",
       "703  2016-03-05 16:56:42  10900        small              2014    auto      5   \n",
       "\n",
       "    model  kilometer  registrationmonth  fueltype           brand notrepaired  \\\n",
       "23    NaN      40000                  9  gasoline  sonstige_autos          no   \n",
       "100   NaN       5000                  0       NaN  sonstige_autos         NaN   \n",
       "246   NaN      50000                  4    petrol  sonstige_autos         NaN   \n",
       "389   NaN      30000                  6    petrol  sonstige_autos          no   \n",
       "703   NaN      20000                  3  gasoline  sonstige_autos          no   \n",
       "\n",
       "             datecreated  numberofpictures  postalcode             lastseen  \n",
       "23   2016-01-02 00:00:00                 0       31073  2016-04-06 13:46:32  \n",
       "100  2016-02-03 00:00:00                 0       19249  2016-04-05 11:45:25  \n",
       "246  2016-02-21 00:00:00                 0       86554  2016-04-06 19:15:23  \n",
       "389  2016-02-29 00:00:00                 0        8132  2016-03-10 15:45:22  \n",
       "703  2016-03-03 00:00:00                 0       86462  2016-04-06 17:17:02  "
      ]
     },
     "execution_count": 40,
     "metadata": {},
     "output_type": "execute_result"
    }
   ],
   "source": [
    "df[df['brand'] == 'sonstige_autos'].head()"
   ]
  },
  {
   "cell_type": "code",
   "execution_count": 41,
   "metadata": {},
   "outputs": [],
   "source": [
    "df.loc[df['brand'] == 'sonstige_autos', 'model'] = df.loc[df['brand'] == 'sonstige_autos', 'model'].replace(np.nan, 'unknown')"
   ]
  },
  {
   "cell_type": "code",
   "execution_count": 42,
   "metadata": {},
   "outputs": [],
   "source": [
    "df = df[df['model'].isnull() == False].reset_index(drop=True)"
   ]
  },
  {
   "cell_type": "markdown",
   "metadata": {},
   "source": [
    "Заполним пропуски в переменных Gearbox и FuelType таким же образом"
   ]
  },
  {
   "cell_type": "code",
   "execution_count": 43,
   "metadata": {},
   "outputs": [],
   "source": [
    "for col in ['gearbox', 'fueltype', 'notrepaired']:\n",
    "    # заполним пропуски более кастомизировано\n",
    "    df[col] = df[col].fillna(df.groupby(['brand', 'model', 'vehicletype'])[col].\n",
    "                           transform(lambda x: next(iter(x.mode()), np.nan)))\n",
    "    \n",
    "    # оставшиеся просто модой\n",
    "    df.loc[df[col].isnull()==True, col] = list(df[col].mode())"
   ]
  },
  {
   "cell_type": "markdown",
   "metadata": {},
   "source": [
    "Исправим нулевые значения мощности на среднее значение по группировки бренда"
   ]
  },
  {
   "cell_type": "code",
   "execution_count": 44,
   "metadata": {},
   "outputs": [
    {
     "name": "stdout",
     "output_type": "stream",
     "text": [
      "Процент всех удалённых строк - 9.02%\n"
     ]
    }
   ],
   "source": [
    "print(\"Процент всех удалённых строк - {:.2%}\".format(1-len(df)/length))"
   ]
  },
  {
   "cell_type": "markdown",
   "metadata": {},
   "source": [
    "На этапе предобработки данных нами были выявлены и удалены дубликаты (6.02% наблюдений), заполнена большая часть пропущенных значений и обработаны выбросы. Также мы определили характеристики \"среднего\" автомобиля среди предоставленных объявлений."
   ]
  },
  {
   "cell_type": "markdown",
   "metadata": {},
   "source": [
    "# 2. Обучение моделей"
   ]
  },
  {
   "cell_type": "code",
   "execution_count": 45,
   "metadata": {},
   "outputs": [],
   "source": [
    "target = df['price']"
   ]
  },
  {
   "cell_type": "code",
   "execution_count": 46,
   "metadata": {},
   "outputs": [],
   "source": [
    "features = df.drop(['price', 'numberofpictures', 'datecrawled', 'datecreated', 'lastseen', 'postalcode'], axis=1)"
   ]
  },
  {
   "cell_type": "code",
   "execution_count": 47,
   "metadata": {},
   "outputs": [
    {
     "data": {
      "text/plain": [
       "(322404,)"
      ]
     },
     "execution_count": 47,
     "metadata": {},
     "output_type": "execute_result"
    }
   ],
   "source": [
    "target.shape"
   ]
  },
  {
   "cell_type": "code",
   "execution_count": 48,
   "metadata": {},
   "outputs": [
    {
     "data": {
      "text/plain": [
       "(322404, 10)"
      ]
     },
     "execution_count": 48,
     "metadata": {},
     "output_type": "execute_result"
    }
   ],
   "source": [
    "features.shape"
   ]
  },
  {
   "cell_type": "markdown",
   "metadata": {},
   "source": [
    "**Кодирование категориальных признаков**"
   ]
  },
  {
   "cell_type": "code",
   "execution_count": 49,
   "metadata": {},
   "outputs": [],
   "source": [
    "ohe = ['notrepaired', 'gearbox', 'fueltype', 'vehicletype']\n",
    "data_ohe = pd.get_dummies(df[ohe], drop_first=True)"
   ]
  },
  {
   "cell_type": "code",
   "execution_count": 50,
   "metadata": {},
   "outputs": [],
   "source": [
    "features1 = features.join(data_ohe).drop(ohe, 1)"
   ]
  },
  {
   "cell_type": "code",
   "execution_count": 51,
   "metadata": {},
   "outputs": [],
   "source": [
    "encoder = OrdinalEncoder()\n",
    "oe = ['registrationyear', 'model', 'brand', 'kilometer']"
   ]
  },
  {
   "cell_type": "code",
   "execution_count": 52,
   "metadata": {},
   "outputs": [],
   "source": [
    "features1[oe] = encoder.fit_transform(features1[oe])"
   ]
  },
  {
   "cell_type": "code",
   "execution_count": 53,
   "metadata": {},
   "outputs": [],
   "source": [
    "features_valtrain, features_test1, target_valtrain, target_test1 = train_test_split(\n",
    "    features1, target, test_size=0.2, random_state=12345)\n",
    "features_train1, features_valid1, target_train1, target_valid1 = train_test_split(\n",
    "    features_valtrain, target_valtrain, test_size=0.25, random_state=12345)"
   ]
  },
  {
   "cell_type": "code",
   "execution_count": 54,
   "metadata": {},
   "outputs": [
    {
     "data": {
      "text/plain": [
       "(64481, 21)"
      ]
     },
     "execution_count": 54,
     "metadata": {},
     "output_type": "execute_result"
    }
   ],
   "source": [
    "features_test1.shape"
   ]
  },
  {
   "cell_type": "code",
   "execution_count": 55,
   "metadata": {},
   "outputs": [
    {
     "data": {
      "text/plain": [
       "(64481, 21)"
      ]
     },
     "execution_count": 55,
     "metadata": {},
     "output_type": "execute_result"
    }
   ],
   "source": [
    "features_valid1.shape"
   ]
  },
  {
   "cell_type": "markdown",
   "metadata": {},
   "source": [
    "**Стандартизация признаков**"
   ]
  },
  {
   "cell_type": "code",
   "execution_count": 56,
   "metadata": {},
   "outputs": [],
   "source": [
    "scaler = StandardScaler();\n",
    "scaler.fit(features_train1);\n",
    "features_train1 = scaler.transform(features_train1)\n",
    "features_valid1 = scaler.transform(features_valid1)\n",
    "features_test1 = scaler.transform(features_test1)"
   ]
  },
  {
   "cell_type": "markdown",
   "metadata": {},
   "source": [
    "Обозначим функцию результатов предсказаний"
   ]
  },
  {
   "cell_type": "code",
   "execution_count": 57,
   "metadata": {},
   "outputs": [],
   "source": [
    "def check(target, predictions):\n",
    "    rmse = (mean_squared_error(target, predictions))**0.5\n",
    "    r2 = r2_score(target, predictions)\n",
    "    print(\"R_sq: {:.2f}\".format(r2))\n",
    "    print(\"RMSE: {:.3f}\".format(rmse))\n",
    "    print('Средняя цена:', target.mean())\n",
    "    rmse_median = (mean_squared_error(target, (np.ones(target.shape)*target.median())))**0.5\n",
    "    print('RMSE_median:', rmse_median)"
   ]
  },
  {
   "cell_type": "markdown",
   "metadata": {},
   "source": [
    "Feature importance для grid search"
   ]
  },
  {
   "cell_type": "code",
   "execution_count": 58,
   "metadata": {},
   "outputs": [],
   "source": [
    "def feat_imp(model):\n",
    "    scores = model.best_estimator_.feature_importances_\n",
    "\n",
    "    dff = []    \n",
    "    for i, f in zip(list(features1.columns), scores):\n",
    "            dff.append([i, round(f*100, 2)])\n",
    "\n",
    "    data = pd.DataFrame (dff, columns = ['feature', 'score'])  \n",
    "    \n",
    "    return data.sort_values('score', ascending=False)"
   ]
  },
  {
   "cell_type": "markdown",
   "metadata": {},
   "source": [
    "## Модели"
   ]
  },
  {
   "cell_type": "markdown",
   "metadata": {},
   "source": [
    "### Линейная регрессия"
   ]
  },
  {
   "cell_type": "code",
   "execution_count": 59,
   "metadata": {},
   "outputs": [
    {
     "name": "stdout",
     "output_type": "stream",
     "text": [
      "Wall time: 118 ms\n"
     ]
    }
   ],
   "source": [
    "%%time\n",
    "lr = LinearRegression()\n",
    "lr.fit(features_train1, target_train1)\n",
    "predict_lr = lr.predict(features_valid1)"
   ]
  },
  {
   "cell_type": "code",
   "execution_count": 60,
   "metadata": {},
   "outputs": [
    {
     "name": "stdout",
     "output_type": "stream",
     "text": [
      "R_sq: 0.51\n",
      "RMSE: 3148.607\n",
      "Средняя цена: 4505.2393728385105\n",
      "RMSE_median: 4817.232776928572\n"
     ]
    }
   ],
   "source": [
    "check(target_valid1, predict_lr)"
   ]
  },
  {
   "cell_type": "code",
   "execution_count": 61,
   "metadata": {},
   "outputs": [],
   "source": [
    "lr_sc = (mean_squared_error(target_valid1, predict_lr))**0.5"
   ]
  },
  {
   "cell_type": "code",
   "execution_count": 62,
   "metadata": {},
   "outputs": [],
   "source": [
    "coef = pd.DataFrame(lr.coef_, features1.columns, columns=['coef'])"
   ]
  },
  {
   "cell_type": "code",
   "execution_count": 63,
   "metadata": {},
   "outputs": [
    {
     "data": {
      "text/html": [
       "<div>\n",
       "<style scoped>\n",
       "    .dataframe tbody tr th:only-of-type {\n",
       "        vertical-align: middle;\n",
       "    }\n",
       "\n",
       "    .dataframe tbody tr th {\n",
       "        vertical-align: top;\n",
       "    }\n",
       "\n",
       "    .dataframe thead th {\n",
       "        text-align: right;\n",
       "    }\n",
       "</style>\n",
       "<table border=\"1\" class=\"dataframe\">\n",
       "  <thead>\n",
       "    <tr style=\"text-align: right;\">\n",
       "      <th></th>\n",
       "      <th>coef</th>\n",
       "    </tr>\n",
       "  </thead>\n",
       "  <tbody>\n",
       "    <tr>\n",
       "      <th>registrationyear</th>\n",
       "      <td>1029.82</td>\n",
       "    </tr>\n",
       "    <tr>\n",
       "      <th>power</th>\n",
       "      <td>1768.86</td>\n",
       "    </tr>\n",
       "    <tr>\n",
       "      <th>model</th>\n",
       "      <td>40.68</td>\n",
       "    </tr>\n",
       "    <tr>\n",
       "      <th>kilometer</th>\n",
       "      <td>-1472.44</td>\n",
       "    </tr>\n",
       "    <tr>\n",
       "      <th>registrationmonth</th>\n",
       "      <td>111.93</td>\n",
       "    </tr>\n",
       "  </tbody>\n",
       "</table>\n",
       "</div>"
      ],
      "text/plain": [
       "                      coef\n",
       "registrationyear   1029.82\n",
       "power              1768.86\n",
       "model                40.68\n",
       "kilometer         -1472.44\n",
       "registrationmonth   111.93"
      ]
     },
     "execution_count": 63,
     "metadata": {},
     "output_type": "execute_result"
    }
   ],
   "source": [
    "coef.head()"
   ]
  },
  {
   "cell_type": "markdown",
   "metadata": {},
   "source": [
    "Линейная регрессия оказалась получше, чем просто медианные предсказания, однако корень среднеквадратичсекой ошибки показал довольно высокое значение, а коэффициент детерминации примерно равен 0.5. "
   ]
  },
  {
   "cell_type": "markdown",
   "metadata": {},
   "source": [
    "### Random Forest"
   ]
  },
  {
   "cell_type": "code",
   "execution_count": 64,
   "metadata": {},
   "outputs": [],
   "source": [
    "parametrs_rf = {'n_estimators': [20],\n",
    "                'max_depth': range(10, 16, 2),\n",
    "                'random_state': [42] }"
   ]
  },
  {
   "cell_type": "code",
   "execution_count": 65,
   "metadata": {},
   "outputs": [
    {
     "name": "stdout",
     "output_type": "stream",
     "text": [
      "Wall time: 2min 12s\n"
     ]
    },
    {
     "data": {
      "text/plain": [
       "GridSearchCV(cv=5, estimator=RandomForestRegressor(),\n",
       "             param_grid={'max_depth': range(10, 16, 2), 'n_estimators': [20],\n",
       "                         'random_state': [42]},\n",
       "             scoring='neg_mean_squared_error')"
      ]
     },
     "execution_count": 65,
     "metadata": {},
     "output_type": "execute_result"
    }
   ],
   "source": [
    "%%time\n",
    "rf = RandomForestRegressor()\n",
    "grid_rf = GridSearchCV(rf, parametrs_rf, scoring = 'neg_mean_squared_error', cv=5)\n",
    "grid_rf.fit(features_train1, target_train1)"
   ]
  },
  {
   "cell_type": "code",
   "execution_count": 66,
   "metadata": {},
   "outputs": [
    {
     "data": {
      "text/plain": [
       "{'max_depth': 14, 'n_estimators': 20, 'random_state': 42}"
      ]
     },
     "execution_count": 66,
     "metadata": {},
     "output_type": "execute_result"
    }
   ],
   "source": [
    "grid_rf.best_params_"
   ]
  },
  {
   "cell_type": "code",
   "execution_count": 67,
   "metadata": {},
   "outputs": [
    {
     "name": "stdout",
     "output_type": "stream",
     "text": [
      "RMSE: 1781.0\n"
     ]
    }
   ],
   "source": [
    "print('RMSE: {:.1f}'.format((- grid_rf.best_score_)**0.5))"
   ]
  },
  {
   "cell_type": "code",
   "execution_count": 68,
   "metadata": {},
   "outputs": [],
   "source": [
    "predict_rf = grid_rf.predict(features_valid1)"
   ]
  },
  {
   "cell_type": "code",
   "execution_count": 69,
   "metadata": {},
   "outputs": [],
   "source": [
    "rf_sc = (mean_squared_error(target_valid1, predict_rf))**0.5"
   ]
  },
  {
   "cell_type": "code",
   "execution_count": 70,
   "metadata": {},
   "outputs": [
    {
     "name": "stdout",
     "output_type": "stream",
     "text": [
      "R_sq: 0.84\n",
      "RMSE: 1791.360\n",
      "Средняя цена: 4505.2393728385105\n",
      "RMSE_median: 4817.232776928572\n"
     ]
    }
   ],
   "source": [
    "check(target_valid1, predict_rf)"
   ]
  },
  {
   "cell_type": "code",
   "execution_count": 71,
   "metadata": {},
   "outputs": [
    {
     "data": {
      "text/html": [
       "<div>\n",
       "<style scoped>\n",
       "    .dataframe tbody tr th:only-of-type {\n",
       "        vertical-align: middle;\n",
       "    }\n",
       "\n",
       "    .dataframe tbody tr th {\n",
       "        vertical-align: top;\n",
       "    }\n",
       "\n",
       "    .dataframe thead th {\n",
       "        text-align: right;\n",
       "    }\n",
       "</style>\n",
       "<table border=\"1\" class=\"dataframe\">\n",
       "  <thead>\n",
       "    <tr style=\"text-align: right;\">\n",
       "      <th></th>\n",
       "      <th>feature</th>\n",
       "      <th>score</th>\n",
       "    </tr>\n",
       "  </thead>\n",
       "  <tbody>\n",
       "    <tr>\n",
       "      <th>0</th>\n",
       "      <td>registrationyear</td>\n",
       "      <td>52.05</td>\n",
       "    </tr>\n",
       "    <tr>\n",
       "      <th>1</th>\n",
       "      <td>power</td>\n",
       "      <td>29.94</td>\n",
       "    </tr>\n",
       "    <tr>\n",
       "      <th>3</th>\n",
       "      <td>kilometer</td>\n",
       "      <td>5.57</td>\n",
       "    </tr>\n",
       "    <tr>\n",
       "      <th>5</th>\n",
       "      <td>brand</td>\n",
       "      <td>3.03</td>\n",
       "    </tr>\n",
       "    <tr>\n",
       "      <th>2</th>\n",
       "      <td>model</td>\n",
       "      <td>2.74</td>\n",
       "    </tr>\n",
       "  </tbody>\n",
       "</table>\n",
       "</div>"
      ],
      "text/plain": [
       "            feature  score\n",
       "0  registrationyear  52.05\n",
       "1             power  29.94\n",
       "3         kilometer   5.57\n",
       "5             brand   3.03\n",
       "2             model   2.74"
      ]
     },
     "execution_count": 71,
     "metadata": {},
     "output_type": "execute_result"
    }
   ],
   "source": [
    "feat_imp(grid_rf).head()"
   ]
  },
  {
   "cell_type": "markdown",
   "metadata": {},
   "source": [
    "Случайный лес оказался намного лучше обычной линейной регрессии. RMSE на валидационной выборке = 1791 при параметрах модели: максимальная глубина = 14, кол-во деревьев = 20. Время обучения не более 3 мин. "
   ]
  },
  {
   "cell_type": "markdown",
   "metadata": {},
   "source": [
    "### LightGBM"
   ]
  },
  {
   "cell_type": "code",
   "execution_count": 72,
   "metadata": {},
   "outputs": [],
   "source": [
    "parametrs_lgbm = {'n_estimators': [1000],\n",
    "                  'max_depth': range (10, 15, 1),\n",
    "                  'verbose': [-1],\n",
    "                  'random_state': [42] }"
   ]
  },
  {
   "cell_type": "code",
   "execution_count": 73,
   "metadata": {
    "scrolled": false
   },
   "outputs": [
    {
     "name": "stdout",
     "output_type": "stream",
     "text": [
      "Wall time: 2min 10s\n"
     ]
    },
    {
     "data": {
      "text/plain": [
       "GridSearchCV(cv=5, estimator=LGBMRegressor(),\n",
       "             param_grid={'max_depth': range(10, 15), 'n_estimators': [1000],\n",
       "                         'random_state': [42], 'verbose': [-1]},\n",
       "             scoring='neg_mean_squared_error')"
      ]
     },
     "execution_count": 73,
     "metadata": {},
     "output_type": "execute_result"
    }
   ],
   "source": [
    "%%time\n",
    "lgbm = LGBMRegressor()\n",
    "grid_gbm = GridSearchCV(lgbm, parametrs_lgbm, scoring = 'neg_mean_squared_error', cv=5)\n",
    "grid_gbm.fit(features_train1, target_train1, eval_set=(features_valid1, target_valid1), verbose=0)"
   ]
  },
  {
   "cell_type": "code",
   "execution_count": 74,
   "metadata": {},
   "outputs": [],
   "source": [
    "predict_lgbm1 = grid_gbm.predict(features_valid1)"
   ]
  },
  {
   "cell_type": "code",
   "execution_count": 75,
   "metadata": {},
   "outputs": [
    {
     "data": {
      "text/plain": [
       "1653.0"
      ]
     },
     "execution_count": 75,
     "metadata": {},
     "output_type": "execute_result"
    }
   ],
   "source": [
    "round((-grid_gbm.best_score_)**0.5, 0)"
   ]
  },
  {
   "cell_type": "code",
   "execution_count": 76,
   "metadata": {},
   "outputs": [
    {
     "data": {
      "text/plain": [
       "{'max_depth': 13, 'n_estimators': 1000, 'random_state': 42, 'verbose': -1}"
      ]
     },
     "execution_count": 76,
     "metadata": {},
     "output_type": "execute_result"
    }
   ],
   "source": [
    "grid_gbm.best_params_"
   ]
  },
  {
   "cell_type": "code",
   "execution_count": 77,
   "metadata": {},
   "outputs": [],
   "source": [
    "lgbm_sc = round((mean_squared_error(target_valid1, predict_lgbm1))**0.5, 0)"
   ]
  },
  {
   "cell_type": "code",
   "execution_count": 78,
   "metadata": {},
   "outputs": [
    {
     "name": "stdout",
     "output_type": "stream",
     "text": [
      "R_sq: 0.86\n",
      "RMSE: 1657.491\n",
      "Средняя цена: 4505.2393728385105\n",
      "RMSE_median: 4817.232776928572\n",
      "None\n"
     ]
    }
   ],
   "source": [
    "print(check(target_valid1, predict_lgbm1))"
   ]
  },
  {
   "cell_type": "code",
   "execution_count": 79,
   "metadata": {},
   "outputs": [
    {
     "data": {
      "text/html": [
       "<div>\n",
       "<style scoped>\n",
       "    .dataframe tbody tr th:only-of-type {\n",
       "        vertical-align: middle;\n",
       "    }\n",
       "\n",
       "    .dataframe tbody tr th {\n",
       "        vertical-align: top;\n",
       "    }\n",
       "\n",
       "    .dataframe thead th {\n",
       "        text-align: right;\n",
       "    }\n",
       "</style>\n",
       "<table border=\"1\" class=\"dataframe\">\n",
       "  <thead>\n",
       "    <tr style=\"text-align: right;\">\n",
       "      <th></th>\n",
       "      <th>feature</th>\n",
       "      <th>score</th>\n",
       "    </tr>\n",
       "  </thead>\n",
       "  <tbody>\n",
       "    <tr>\n",
       "      <th>0</th>\n",
       "      <td>registrationyear</td>\n",
       "      <td>654300</td>\n",
       "    </tr>\n",
       "    <tr>\n",
       "      <th>1</th>\n",
       "      <td>power</td>\n",
       "      <td>650900</td>\n",
       "    </tr>\n",
       "    <tr>\n",
       "      <th>2</th>\n",
       "      <td>model</td>\n",
       "      <td>431100</td>\n",
       "    </tr>\n",
       "    <tr>\n",
       "      <th>4</th>\n",
       "      <td>registrationmonth</td>\n",
       "      <td>294100</td>\n",
       "    </tr>\n",
       "    <tr>\n",
       "      <th>5</th>\n",
       "      <td>brand</td>\n",
       "      <td>292200</td>\n",
       "    </tr>\n",
       "  </tbody>\n",
       "</table>\n",
       "</div>"
      ],
      "text/plain": [
       "             feature   score\n",
       "0   registrationyear  654300\n",
       "1              power  650900\n",
       "2              model  431100\n",
       "4  registrationmonth  294100\n",
       "5              brand  292200"
      ]
     },
     "execution_count": 79,
     "metadata": {},
     "output_type": "execute_result"
    }
   ],
   "source": [
    "feat_imp(grid_gbm).head()"
   ]
  },
  {
   "cell_type": "markdown",
   "metadata": {},
   "source": [
    "Модель градиентного бустинга библиотеки LightGBM показала результат RMSE на валидационной выборке = 1657. Лучше, чем Random Forest, время обучения немного превышает 2 мин. Наиболее значимые характеристики, влияющие на цену: год регистрации, мощность, модель и бренд. "
   ]
  },
  {
   "cell_type": "markdown",
   "metadata": {},
   "source": [
    "### Catboost"
   ]
  },
  {
   "cell_type": "code",
   "execution_count": 80,
   "metadata": {},
   "outputs": [],
   "source": [
    "features_valtrain, features_test, target_valtrain, target_test = train_test_split(\n",
    "    features, target, test_size=0.2, random_state=42)\n",
    "features_train, features_valid, target_train, target_valid = train_test_split(\n",
    "    features_valtrain, target_valtrain, test_size=0.25, random_state=42)"
   ]
  },
  {
   "cell_type": "code",
   "execution_count": 81,
   "metadata": {},
   "outputs": [],
   "source": [
    "cat_features = ['vehicletype', 'gearbox', 'model', 'fueltype', 'brand', 'notrepaired']"
   ]
  },
  {
   "cell_type": "code",
   "execution_count": 82,
   "metadata": {},
   "outputs": [],
   "source": [
    "params_cat = {'iterations': [1000],\n",
    "              'loss_function': ['RMSE'],\n",
    "              'random_state': [42] }"
   ]
  },
  {
   "cell_type": "code",
   "execution_count": 83,
   "metadata": {},
   "outputs": [
    {
     "name": "stdout",
     "output_type": "stream",
     "text": [
      "Wall time: 11min 39s\n"
     ]
    },
    {
     "data": {
      "text/plain": [
       "GridSearchCV(cv=5,\n",
       "             estimator=<catboost.core.CatBoostRegressor object at 0x0000023A406C6DF0>,\n",
       "             param_grid={'iterations': [1000], 'loss_function': ['RMSE'],\n",
       "                         'random_state': [42]},\n",
       "             scoring='neg_mean_squared_error')"
      ]
     },
     "execution_count": 83,
     "metadata": {},
     "output_type": "execute_result"
    }
   ],
   "source": [
    "%%time\n",
    "cat = CatBoostRegressor()\n",
    "grid_cat = GridSearchCV(cat, params_cat, scoring = 'neg_mean_squared_error', cv=5)\n",
    "grid_cat.fit(features_train, target_train, cat_features=cat_features, eval_set=(features_valid, target_valid), verbose=0)"
   ]
  },
  {
   "cell_type": "code",
   "execution_count": 84,
   "metadata": {},
   "outputs": [
    {
     "data": {
      "text/plain": [
       "1690.8197919106183"
      ]
     },
     "execution_count": 84,
     "metadata": {},
     "output_type": "execute_result"
    }
   ],
   "source": [
    "(-grid_cat.best_score_)**0.5"
   ]
  },
  {
   "cell_type": "code",
   "execution_count": 85,
   "metadata": {},
   "outputs": [
    {
     "data": {
      "text/plain": [
       "{'iterations': 1000, 'loss_function': 'RMSE', 'random_state': 42}"
      ]
     },
     "execution_count": 85,
     "metadata": {},
     "output_type": "execute_result"
    }
   ],
   "source": [
    "grid_cat.best_params_"
   ]
  },
  {
   "cell_type": "code",
   "execution_count": 86,
   "metadata": {},
   "outputs": [
    {
     "name": "stdout",
     "output_type": "stream",
     "text": [
      "R_sq: 0.86\n",
      "RMSE: 1673.851\n",
      "Средняя цена: 4497.0301794327015\n",
      "RMSE_median: 4783.0305531298045\n"
     ]
    }
   ],
   "source": [
    "predict_cat = grid_cat.predict(features_valid)\n",
    "check(target_valid, predict_cat)"
   ]
  },
  {
   "cell_type": "code",
   "execution_count": 87,
   "metadata": {},
   "outputs": [],
   "source": [
    "cat_sc = (mean_squared_error(target_valid, predict_cat))**0.5"
   ]
  },
  {
   "cell_type": "code",
   "execution_count": 88,
   "metadata": {},
   "outputs": [
    {
     "data": {
      "text/html": [
       "<div>\n",
       "<style scoped>\n",
       "    .dataframe tbody tr th:only-of-type {\n",
       "        vertical-align: middle;\n",
       "    }\n",
       "\n",
       "    .dataframe tbody tr th {\n",
       "        vertical-align: top;\n",
       "    }\n",
       "\n",
       "    .dataframe thead th {\n",
       "        text-align: right;\n",
       "    }\n",
       "</style>\n",
       "<table border=\"1\" class=\"dataframe\">\n",
       "  <thead>\n",
       "    <tr style=\"text-align: right;\">\n",
       "      <th></th>\n",
       "      <th>feature</th>\n",
       "      <th>score</th>\n",
       "    </tr>\n",
       "  </thead>\n",
       "  <tbody>\n",
       "    <tr>\n",
       "      <th>1</th>\n",
       "      <td>power</td>\n",
       "      <td>4163.72</td>\n",
       "    </tr>\n",
       "    <tr>\n",
       "      <th>3</th>\n",
       "      <td>kilometer</td>\n",
       "      <td>2250.99</td>\n",
       "    </tr>\n",
       "    <tr>\n",
       "      <th>5</th>\n",
       "      <td>brand</td>\n",
       "      <td>1319.13</td>\n",
       "    </tr>\n",
       "    <tr>\n",
       "      <th>8</th>\n",
       "      <td>fueltype_electric</td>\n",
       "      <td>777.15</td>\n",
       "    </tr>\n",
       "    <tr>\n",
       "      <th>0</th>\n",
       "      <td>registrationyear</td>\n",
       "      <td>511.29</td>\n",
       "    </tr>\n",
       "  </tbody>\n",
       "</table>\n",
       "</div>"
      ],
      "text/plain": [
       "             feature   score\n",
       "1              power 4163.72\n",
       "3          kilometer 2250.99\n",
       "5              brand 1319.13\n",
       "8  fueltype_electric  777.15\n",
       "0   registrationyear  511.29"
      ]
     },
     "execution_count": 88,
     "metadata": {},
     "output_type": "execute_result"
    }
   ],
   "source": [
    "feat_imp(grid_cat).head()"
   ]
  },
  {
   "cell_type": "markdown",
   "metadata": {},
   "source": [
    "Модель Catboost показала результат RMSE на валидационной выборке = 1674. Время обучения заметно выше других моделей - 12 мин. Наиболее значимые признаки: мощность, пробег, бренд, электрокары."
   ]
  },
  {
   "cell_type": "markdown",
   "metadata": {},
   "source": [
    "# 3. Анализ моделей"
   ]
  },
  {
   "cell_type": "markdown",
   "metadata": {},
   "source": [
    "### Random Forest"
   ]
  },
  {
   "cell_type": "code",
   "execution_count": 89,
   "metadata": {},
   "outputs": [
    {
     "name": "stdout",
     "output_type": "stream",
     "text": [
      "R_sq: 0.84\n",
      "RMSE: 1785.961\n",
      "Средняя цена: 4497.314263116266\n",
      "RMSE_median: 4802.333936767184\n",
      "None\n"
     ]
    }
   ],
   "source": [
    "predict_rf_test = grid_rf.predict(features_test1)\n",
    "print(check(target_test1, predict_rf_test))"
   ]
  },
  {
   "cell_type": "markdown",
   "metadata": {},
   "source": [
    "### LightGBM"
   ]
  },
  {
   "cell_type": "code",
   "execution_count": 90,
   "metadata": {},
   "outputs": [
    {
     "name": "stdout",
     "output_type": "stream",
     "text": [
      "R_sq: 0.87\n",
      "RMSE: 1647.893\n",
      "Средняя цена: 4497.314263116266\n",
      "RMSE_median: 4802.333936767184\n",
      "None\n"
     ]
    }
   ],
   "source": [
    "predict_lgbm_test = grid_gbm.best_estimator_.predict(features_test1)\n",
    "print(check(target_test1, predict_lgbm_test))"
   ]
  },
  {
   "cell_type": "markdown",
   "metadata": {},
   "source": [
    "### Catboost"
   ]
  },
  {
   "cell_type": "code",
   "execution_count": 91,
   "metadata": {},
   "outputs": [
    {
     "name": "stdout",
     "output_type": "stream",
     "text": [
      "R_sq: 0.86\n",
      "RMSE: 1665.805\n",
      "Средняя цена: 4511.532792605573\n",
      "RMSE_median: 4830.257125340209\n",
      "None\n"
     ]
    }
   ],
   "source": [
    "predict_cat_test = grid_cat.predict(features_test)\n",
    "print(check(target_test, predict_cat_test))"
   ]
  },
  {
   "cell_type": "code",
   "execution_count": 92,
   "metadata": {},
   "outputs": [],
   "source": [
    "data = {'LR': [lr_sc],\n",
    "        'RF': [rf_sc],\n",
    "        'LGBM': [lgbm_sc],\n",
    "        'Catboost': [cat_sc] }"
   ]
  },
  {
   "cell_type": "code",
   "execution_count": 93,
   "metadata": {},
   "outputs": [],
   "source": [
    "scores = pd.DataFrame (data, columns = ['LR','RF', 'LGBM', 'Catboost'], index=['RMSE'])"
   ]
  },
  {
   "cell_type": "code",
   "execution_count": 94,
   "metadata": {},
   "outputs": [
    {
     "data": {
      "text/html": [
       "<div>\n",
       "<style scoped>\n",
       "    .dataframe tbody tr th:only-of-type {\n",
       "        vertical-align: middle;\n",
       "    }\n",
       "\n",
       "    .dataframe tbody tr th {\n",
       "        vertical-align: top;\n",
       "    }\n",
       "\n",
       "    .dataframe thead th {\n",
       "        text-align: right;\n",
       "    }\n",
       "</style>\n",
       "<table border=\"1\" class=\"dataframe\">\n",
       "  <thead>\n",
       "    <tr style=\"text-align: right;\">\n",
       "      <th></th>\n",
       "      <th>LR</th>\n",
       "      <th>RF</th>\n",
       "      <th>LGBM</th>\n",
       "      <th>Catboost</th>\n",
       "    </tr>\n",
       "  </thead>\n",
       "  <tbody>\n",
       "    <tr>\n",
       "      <th>RMSE</th>\n",
       "      <td>3148.61</td>\n",
       "      <td>1791.36</td>\n",
       "      <td>1657.00</td>\n",
       "      <td>1673.85</td>\n",
       "    </tr>\n",
       "  </tbody>\n",
       "</table>\n",
       "</div>"
      ],
      "text/plain": [
       "          LR      RF    LGBM  Catboost\n",
       "RMSE 3148.61 1791.36 1657.00   1673.85"
      ]
     },
     "execution_count": 94,
     "metadata": {},
     "output_type": "execute_result"
    }
   ],
   "source": [
    "scores"
   ]
  },
  {
   "cell_type": "markdown",
   "metadata": {},
   "source": [
    "**Вывод.**  \n",
    "Так как приоритетность задач в условии не указана, учтём, что параметры важны в равной степени.  \n",
    "Скорость обучения почти всех моделей составляет 2-3 минуты.Скорость предсказания моделей на тестовой выборке у всех моделей высокая. По результатам предсказаний моделей на тестовых выборках и при обучении лучшее качество показала модель lightgbm. Для всех моделей одними из наиболее важных признаков оказались год регистрации, мощность и бренд авто."
   ]
  }
 ],
 "metadata": {
  "kernelspec": {
   "display_name": "Python 3",
   "language": "python",
   "name": "python3"
  },
  "language_info": {
   "codemirror_mode": {
    "name": "ipython",
    "version": 3
   },
   "file_extension": ".py",
   "mimetype": "text/x-python",
   "name": "python",
   "nbconvert_exporter": "python",
   "pygments_lexer": "ipython3",
   "version": "3.8.3"
  },
  "toc": {
   "base_numbering": 1,
   "nav_menu": {},
   "number_sections": true,
   "sideBar": true,
   "skip_h1_title": false,
   "title_cell": "Table of Contents",
   "title_sidebar": "Contents",
   "toc_cell": false,
   "toc_position": {},
   "toc_section_display": true,
   "toc_window_display": false
  }
 },
 "nbformat": 4,
 "nbformat_minor": 2
}
